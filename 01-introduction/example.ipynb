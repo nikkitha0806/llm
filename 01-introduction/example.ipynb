{
 "cells": [
  {
   "cell_type": "code",
   "execution_count": 39,
   "id": "e4f96482-ff1a-4a06-b52c-07e2ec05cc93",
   "metadata": {},
   "outputs": [],
   "source": [
    "\n",
    "import openai\n",
    "from dotenv import dotenv_values\n",
    "from openai import OpenAI\n",
    "import os\n"
   ]
  },
  {
   "cell_type": "code",
   "execution_count": 40,
   "id": "12b2418e-4f74-4d50-a255-55c58ab22c66",
   "metadata": {},
   "outputs": [],
   "source": [
    "APP_KEY = dotenv_values(\".env\")"
   ]
  },
  {
   "cell_type": "code",
   "execution_count": 41,
   "id": "cab94bb6-76b4-4087-8574-1a7ac5396f1e",
   "metadata": {},
   "outputs": [],
   "source": [
    "client = OpenAI(api_key=APP_KEY[\"API_KEY\"], base_url=\"https://api.perplexity.ai\")"
   ]
  },
  {
   "cell_type": "code",
   "execution_count": 42,
   "id": "4d20ffc4-21fc-445c-b04f-fdf54a83b28c",
   "metadata": {},
   "outputs": [],
   "source": [
    "response = client.chat.completions.create(\n",
    "    \n",
    "    model = \"llama-3-sonar-large-32k-chat\",\n",
    "    messages = [{\"role\": \"user\", \"content\": \"is it too late to join the course?\"}]\n",
    "    )    "
   ]
  },
  {
   "cell_type": "code",
   "execution_count": 43,
   "id": "34f0d458-688d-40a2-8d4d-39ec703cb853",
   "metadata": {},
   "outputs": [
    {
     "data": {
      "text/plain": [
       "\"I'm happy to help However, I need more context to provide a accurate answer. Could you please provide more information about the course you're referring to? \\n\\nHere are some questions to consider:\\n\\n* What is the course about?\\n* Who is offering the course (e.g. university, online platform, instructor)?\\n* When did the course start?\\n* Is there a specific deadline for joining the course?\\n\\nOnce I have more information, I'll do my best to help you determine if it's too late to join the course.\""
      ]
     },
     "execution_count": 43,
     "metadata": {},
     "output_type": "execute_result"
    }
   ],
   "source": [
    "response.choices[0].message.content"
   ]
  },
  {
   "cell_type": "code",
   "execution_count": null,
   "id": "01fb4a47-5830-4321-9944-3b3f41eebdc9",
   "metadata": {},
   "outputs": [],
   "source": []
  }
 ],
 "metadata": {
  "kernelspec": {
   "display_name": "Python 3 (ipykernel)",
   "language": "python",
   "name": "python3"
  },
  "language_info": {
   "codemirror_mode": {
    "name": "ipython",
    "version": 3
   },
   "file_extension": ".py",
   "mimetype": "text/x-python",
   "name": "python",
   "nbconvert_exporter": "python",
   "pygments_lexer": "ipython3",
   "version": "3.11.4"
  }
 },
 "nbformat": 4,
 "nbformat_minor": 5
}
